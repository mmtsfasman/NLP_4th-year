{
 "cells": [
  {
   "cell_type": "code",
   "execution_count": 7,
   "metadata": {},
   "outputs": [],
   "source": [
    "from nltk.corpus import wordnet"
   ]
  },
  {
   "cell_type": "markdown",
   "metadata": {},
   "source": [
    "<b>1) Найти все значения (синсеты) для лексемы plant<b>"
   ]
  },
  {
   "cell_type": "code",
   "execution_count": 8,
   "metadata": {},
   "outputs": [
    {
     "name": "stdout",
     "output_type": "stream",
     "text": [
      "Synset('bank.n.01') sloping land (especially the slope beside a body of water)\n",
      "Synset('depository_financial_institution.n.01') a financial institution that accepts deposits and channels the money into lending activities\n",
      "Synset('bank.n.03') a long ridge or pile\n",
      "Synset('bank.n.04') an arrangement of similar objects in a row or in tiers\n",
      "Synset('bank.n.05') a supply or stock held in reserve for future use (especially in emergencies)\n",
      "Synset('bank.n.06') the funds held by a gambling house or the dealer in some gambling games\n",
      "Synset('bank.n.07') a slope in the turn of a road or track; the outside is higher than the inside in order to reduce the effects of centrifugal force\n",
      "Synset('savings_bank.n.02') a container (usually with a slot in the top) for keeping money at home\n",
      "Synset('bank.n.09') a building in which the business of banking transacted\n",
      "Synset('bank.n.10') a flight maneuver; aircraft tips laterally about its longitudinal axis (especially in turning)\n",
      "Synset('bank.v.01') tip laterally\n",
      "Synset('bank.v.02') enclose with a bank\n",
      "Synset('bank.v.03') do business with a bank or keep an account at a bank\n",
      "Synset('bank.v.04') act as the banker in a game or in gambling\n",
      "Synset('bank.v.05') be in the banking business\n",
      "Synset('deposit.v.02') put into a bank account\n",
      "Synset('bank.v.07') cover with ashes so to control the rate of burning\n",
      "Synset('trust.v.01') have confidence or faith in\n"
     ]
    }
   ],
   "source": [
    "bank = wordnet.synsets('bank')\n",
    "for ss in bank:\n",
    "    print(ss, ss.definition())"
   ]
  },
  {
   "cell_type": "markdown",
   "metadata": {},
   "source": [
    "<b>2) Найти определение для лексемы bank в значении  (a) \"берег\" и в значении  (b) \"финансовое учреждение\"</b>"
   ]
  },
  {
   "cell_type": "code",
   "execution_count": 9,
   "metadata": {},
   "outputs": [
    {
     "name": "stdout",
     "output_type": "stream",
     "text": [
      "Synset('bank.n.01') sloping land (especially the slope beside a body of water)\n",
      "Synset('depository_financial_institution.n.01') a financial institution that accepts deposits and channels the money into lending activities\n"
     ]
    }
   ],
   "source": [
    "print(bank[0], bank[0].definition())\n",
    "print(bank[1], bank[1].definition())"
   ]
  },
  {
   "cell_type": "markdown",
   "metadata": {},
   "source": [
    "<b>3) Найдите два произвольных контекста для слова bank в значениях (a) \"берег\" и (b) \"финансовое учреждение\"; продемонстрируйте на них действие алгоритма Леска для разрешения неоднозначности</b>"
   ]
  },
  {
   "cell_type": "code",
   "execution_count": 14,
   "metadata": {},
   "outputs": [
    {
     "name": "stdout",
     "output_type": "stream",
     "text": [
      "['No', 'visit', 'to', 'Paris', 'would', 'be', 'complete', 'without', 'a', 'stroll', 'along', 'the', 'banks', 'of', 'the', 'River', 'Seine']\n",
      "['Welcome', 'to', 'Bank', 'of', 'America', 'home', 'for', 'all', 'of', 'your', 'financial', 'needs']\n"
     ]
    }
   ],
   "source": [
    "sent1 = 'No visit to Paris would be complete without a stroll along the banks of the River Seine.'\n",
    "sent2 = 'Welcome to Bank of America, home for all of your financial needs.'\n",
    "sent1_tokens = [word.strip('.,') for word in sent1.split(' ')]\n",
    "sent2_tokens = [word.strip('.,') for word in sent2.split(' ')]\n",
    "print(sent1_tokens)\n",
    "print(sent2_tokens)"
   ]
  },
  {
   "cell_type": "code",
   "execution_count": 15,
   "metadata": {},
   "outputs": [
    {
     "name": "stdout",
     "output_type": "stream",
     "text": [
      "a slope in the turn of a road or track; the outside is higher than the inside in order to reduce the effects of centrifugal force\n",
      "a container (usually with a slot in the top) for keeping money at home\n"
     ]
    }
   ],
   "source": [
    "from nltk.wsd import lesk\n",
    "print(lesk(sent1_tokens, 'bank').definition())\n",
    "print(lesk(sent2_tokens, 'bank').definition())"
   ]
  },
  {
   "cell_type": "markdown",
   "metadata": {},
   "source": [
    "В первом случае значение определено почти правильно, хотя оно довольно странно сформулировано. Во втором случае значение абсолютно неверно. "
   ]
  },
  {
   "cell_type": "markdown",
   "metadata": {},
   "source": [
    "<b>4) Найдите гиперонимы для значения (a) и гиперонимы для значения (b)</b>"
   ]
  },
  {
   "cell_type": "code",
   "execution_count": 16,
   "metadata": {},
   "outputs": [
    {
     "name": "stdout",
     "output_type": "stream",
     "text": [
      "Synset('slope.n.01') an elevated geological formation\n",
      "Synset('financial_institution.n.01') an institution (public or private) that collects funds (from the public or other institutions) and invests them in financial assets\n"
     ]
    }
   ],
   "source": [
    "for ss in bank[0].hypernyms():\n",
    "    print(ss, ss.definition())\n",
    "for ss in bank[1].hypernyms():\n",
    "    print(ss, ss.definition())"
   ]
  },
  {
   "cell_type": "markdown",
   "metadata": {},
   "source": [
    "<b>5) Вычислите наименьшее расстояние между значением bank \"берег\" и значениями лексемы river, а также bank \"банк\" и значениями лексемы money.\n",
    "    \n",
    "Найти min (d(bank: \"берег\", river), d(bank: \"банк\", money)), а также min (d(bank: \"берег\", money), d(bank: \"банк\", river))</b>"
   ]
  },
  {
   "cell_type": "code",
   "execution_count": 24,
   "metadata": {},
   "outputs": [
    {
     "name": "stdout",
     "output_type": "stream",
     "text": [
      "min d(bank: \"берег\", river): 8\n",
      "closest lemma definition: a large natural stream of water (larger than a creek)\n",
      "\n",
      "min d(bank: \"берег\", money): 11\n",
      "closest lemma definition: the most common medium of exchange; functions as legal tender\n",
      "\n",
      "mind (bank: \"банк\", money): 11\n",
      "closest lemma definition: the most common medium of exchange; functions as legal tender\n",
      "\n",
      "min d(bank: \"банк\", river): 12\n",
      "closest lemma definition: a large natural stream of water (larger than a creek)\n",
      "\n",
      "min (d(bank: \"берег\", river), d(bank: \"берег\", money)): 8\n",
      "min (d(bank: \"банк\", money), d(bank: \"банк\", river)): 11\n"
     ]
    }
   ],
   "source": [
    "river = wordnet.synsets('river')\n",
    "money = wordnet.synsets('money')\n",
    "\n",
    "def get_dist_sim(ss1, lexeme):\n",
    "    distances = []\n",
    "    similarities = []\n",
    "    for ss2 in lexeme:\n",
    "        dist = ss1.shortest_path_distance(ss2)\n",
    "        if dist is not None:\n",
    "            distances.append(dist)\n",
    "            sim = ss1.path_similarity(ss2)\n",
    "            similarities.append(sim)\n",
    "    return distances, similarities\n",
    "\n",
    "# min d(bank: \"берег\", river)\n",
    "dist1 = get_dist_sim(bank[0], river)[0]\n",
    "print('min d(bank: \"берег\", river): {}'.format(min(dist1)))\n",
    "print('closest lemma definition: {}\\n'.format(river[dist1.index(min(dist1))].definition()))\n",
    "# Правда, здесь выводится только одно ближайшее значение. Их может быть несколько.\n",
    "\n",
    "# min d(bank: \"берег\", money)\n",
    "dist2 = get_dist_sim(bank[0], money)[0]\n",
    "print('min d(bank: \"берег\", money): {}'.format(min(dist2)))\n",
    "print('closest lemma definition: {}\\n'.format(money[dist2.index(min(dist2))].definition()))\n",
    "\n",
    "# min d(bank: \"банк\", money)\n",
    "dist3 = get_dist_sim(bank[1], money)[0]\n",
    "print('mind (bank: \"банк\", money): {}'.format(min(dist3)))\n",
    "print('closest lemma definition: {}\\n'.format(money[dist3.index(min(dist3))].definition()))\n",
    "\n",
    "# min d(bank: \"банк\", river)\n",
    "dist4 = get_dist_sim(bank[1], river)[0]\n",
    "print('min d(bank: \"банк\", river): {}'.format(min(dist4)))\n",
    "print('closest lemma definition: {}\\n'.format(river[dist4.index(min(dist4))].definition()))\n",
    "\n",
    "print('min (d(bank: \"берег\", river), d(bank: \"берег\", money)): {}'.format(min(min(dist1), min(dist2))))\n",
    "print('min (d(bank: \"банк\", money), d(bank: \"банк\", river)): {}'.format(min(min(dist3), min(dist4))))"
   ]
  },
  {
   "cell_type": "markdown",
   "metadata": {},
   "source": [
    "Кратчайшее расстояние от берега до river - 8, до money - 12. Получается, что до river расстояние короче - логично.\n",
    "Кратчайшее расстояние от банка до money - 11, до leaf - 12. Получается, до money расстояние короче, но странно, что только на 1.\n",
    "\n",
    "Если имелось в виду посчитать не расстояние, а сходство путей на основе кратчайшего расстояния (минимальный путь --> максимальное сходство), вот оно:"
   ]
  },
  {
   "cell_type": "code",
   "execution_count": 23,
   "metadata": {},
   "outputs": [
    {
     "name": "stdout",
     "output_type": "stream",
     "text": [
      "max s(bank: \"берег\", river): 0.1111111111111111\n",
      "closest lemma definition: a large natural stream of water (larger than a creek)\n",
      "\n",
      "max s(bank: \"берег\", money): 0.08333333333333333\n",
      "closest lemma definition: the most common medium of exchange; functions as legal tender\n",
      "\n",
      "max s(bank: \"банк\", money): 0.08333333333333333\n",
      "closest lemma definition: the most common medium of exchange; functions as legal tender\n",
      "\n",
      "max s(bank: \"банк\", river): 0.07692307692307693\n",
      "closest lemma definition: a large natural stream of water (larger than a creek)\n",
      "\n",
      "max (s(bank: \"берег\", river), s(bank: \"берег\", money)): 0.1111111111111111\n",
      "max (s(bank: \"банк\", money), s(bank: \"банк\", river)): 0.08333333333333333\n"
     ]
    }
   ],
   "source": [
    "# max s(bank: \"берег\", river)\n",
    "sim1 = get_dist_sim(bank[0], river)[1]\n",
    "print('max s(bank: \"берег\", river): {}'.format(max(sim1)))\n",
    "print('closest lemma definition: {}\\n'.format(river[sim1.index(max(sim1))].definition()))\n",
    "# Правда, здесь выводится только одно ближайшее значение. Их может быть несколько.\n",
    "\n",
    "# max s(bank: \"берег\", money)\n",
    "sim2 = get_dist_sim(bank[0], money)[1]\n",
    "print('max s(bank: \"берег\", money): {}'.format(max(sim2)))\n",
    "print('closest lemma definition: {}\\n'.format(money[sim2.index(max(sim2))].definition()))\n",
    "\n",
    "# max s(bank: \"банк\", money)\n",
    "sim3 = get_dist_sim(bank[1], money)[1]\n",
    "print('max s(bank: \"банк\", money): {}'.format(max(sim3)))\n",
    "print('closest lemma definition: {}\\n'.format(money[sim3.index(max(sim3))].definition()))\n",
    "\n",
    "# max s(bank: \"банк\", river)\n",
    "sim4 = get_dist_sim(bank[1], river)[1]\n",
    "print('max s(bank: \"банк\", river): {}'.format(max(sim4)))\n",
    "print('closest lemma definition: {}\\n'.format(river[sim4.index(max(sim4))].definition()))\n",
    "\n",
    "print('max (s(bank: \"берег\", river), s(bank: \"берег\", money)): {}'.format(max(max(sim1), max(sim2))))\n",
    "print('max (s(bank: \"банк\", money), s(bank: \"банк\", river)): {}'.format(max(max(sim3), max(sim4))))"
   ]
  },
  {
   "cell_type": "markdown",
   "metadata": {},
   "source": [
    "Результат тот же: берег ближе к river, банк ближе к money.\n",
    "\n",
    "<b>6) Вычислить двумя разными способами расстояние:\n",
    "d(bank: \"банк\", bank account), d(bank: \"берег\", shore) и d(soup, alien)\n",
    "Есть ли разница в расстояниях? Какое из расстояний, по Вашему мнению, в лучшей степени отражает интуитивное представление о семантчиеской близости слов?</b>\n",
    "\n",
    "<i>Здесь я не очень поняла алгоритм выбора слов. Я решила что первая пара - максимально похожие слова, а вторая - максимально далекии по значению. Так как у слова bank я не нашла хороших гипонимов, я решила сравнить 'банк' с банковским счетом, и 'берег' c shore (тоже берег, но морской). А в качестве максимально далекой пары я взяла alien и soup.</i>"
   ]
  },
  {
   "cell_type": "code",
   "execution_count": 64,
   "metadata": {},
   "outputs": [
    {
     "name": "stdout",
     "output_type": "stream",
     "text": [
      "Synset('bank_account.n.01') a fund that a customer has entrusted to a bank and from which the customer can make withdrawals\n"
     ]
    }
   ],
   "source": [
    "account = wordnet.synsets(\"bank_account\")\n",
    "for ss in account:\n",
    "    print(ss, ss.definition())"
   ]
  },
  {
   "cell_type": "code",
   "execution_count": 62,
   "metadata": {},
   "outputs": [
    {
     "name": "stdout",
     "output_type": "stream",
     "text": [
      "Synset('shore.n.01') the land along the edge of a body of water\n",
      "Synset('shore.n.02') a beam or timber that is propped against a structure to provide support\n",
      "Synset('shore.v.01') serve as a shore to\n",
      "Synset('land.v.06') arrive on shore\n",
      "Synset('prop_up.v.01') support by placing against something solid or rigid\n"
     ]
    }
   ],
   "source": [
    "shore = wordnet.synsets(\"shore\")\n",
    "for ss in shore:\n",
    "    print(ss, ss.definition())"
   ]
  },
  {
   "cell_type": "markdown",
   "metadata": {},
   "source": [
    "Посчитаем близость с помощью критериев Path Similarity, Leacock-Chodorow Similarity, Wu-Palmer Similarity, Resnik Similarity, Jiang-Conrath Similarity и Lin Similarity. Для последних трех будем использовать Information Content корпуса Brown."
   ]
  },
  {
   "cell_type": "code",
   "execution_count": 67,
   "metadata": {},
   "outputs": [
    {
     "name": "stdout",
     "output_type": "stream",
     "text": [
      "0.08333333333333333\n",
      "1.1526795099383855\n",
      "0.26666666666666666\n",
      "0.5962292078977726\n",
      "1e-300\n",
      "1.1924584157955451e-300\n"
     ]
    }
   ],
   "source": [
    "from nltk.corpus import wordnet_ic\n",
    "ic = wordnet_ic.ic('ic-brown.dat')\n",
    "\n",
    "print(bank[1].path_similarity(account[0]))\n",
    "\n",
    "#Leacock-Chodorow Similarity\n",
    "print(bank[1].lch_similarity(account[0]))\n",
    "\n",
    "#Wu-Palmer Similarity\n",
    "print(bank[1].wup_similarity(account[0]))\n",
    "    \n",
    "#Resnik Similarity\n",
    "print(bank[1].res_similarity(account[0], ic))\n",
    "    \n",
    "#Jiang-Conrath Similarity\n",
    "print(bank[1].jcn_similarity(account[0], ic))\n",
    "    \n",
    "#Lin Similarity\n",
    "print(bank[1].lin_similarity(account[0], ic))\n"
   ]
  },
  {
   "cell_type": "code",
   "execution_count": 69,
   "metadata": {},
   "outputs": [
    {
     "name": "stdout",
     "output_type": "stream",
     "text": [
      "0.25\n",
      "2.2512917986064953\n",
      "0.7272727272727273\n",
      "5.884681030765606\n",
      "0.137293462201792\n",
      "0.6177160279043438\n"
     ]
    }
   ],
   "source": [
    "ic = wordnet_ic.ic('ic-brown.dat')\n",
    "\n",
    "print(bank[0].path_similarity(shore[0]))\n",
    "\n",
    "#Leacock-Chodorow Similarity\n",
    "print(bank[0].lch_similarity(shore[0]))\n",
    "\n",
    "#Wu-Palmer Similarity\n",
    "print(bank[0].wup_similarity(shore[0]))\n",
    "    \n",
    "#Resnik Similarity\n",
    "print(bank[0].res_similarity(shore[0], ic))\n",
    "    \n",
    "#Jiang-Conrath Similarity\n",
    "print(bank[0].jcn_similarity(shore[0], ic))\n",
    "    \n",
    "#Lin Similarity\n",
    "print(bank[0].lin_similarity(shore[0], ic))"
   ]
  },
  {
   "cell_type": "code",
   "execution_count": 44,
   "metadata": {},
   "outputs": [
    {
     "name": "stdout",
     "output_type": "stream",
     "text": [
      "Synset('soup.n.01') liquid food especially of meat or fish or vegetable stock often containing pieces of solid food\n",
      "Synset('soup.n.01') []\n",
      "Synset('soup.n.02') any composition having a consistency suggestive of soup\n",
      "Synset('soup.n.02') []\n",
      "Synset('soup.n.03') an unfortunate situation\n",
      "Synset('soup.n.03') [\"we're in the soup now\"]\n"
     ]
    }
   ],
   "source": [
    "soup = wordnet.synsets('soup', 'n')\n",
    "for ss in soup:\n",
    "    print(ss, ss.definition())\n",
    "    print(ss, ss.examples())"
   ]
  },
  {
   "cell_type": "markdown",
   "metadata": {},
   "source": [
    "Так как мы хотим взять максимально несвязанные слова, то логично взять значение soup \"liquid food especially of meat or fish or vegetable stock often containing pieces of solid food\""
   ]
  },
  {
   "cell_type": "code",
   "execution_count": 45,
   "metadata": {},
   "outputs": [
    {
     "name": "stdout",
     "output_type": "stream",
     "text": [
      "Synset('foreigner.n.01') a person who comes from a foreign country; someone who does not owe allegiance to your country\n",
      "Synset('foreigner.n.01') []\n",
      "Synset('stranger.n.01') anyone who does not belong in the environment in which they are found\n",
      "Synset('stranger.n.01') []\n",
      "Synset('extraterrestrial_being.n.01') a form of life assumed to exist outside the Earth or its atmosphere\n",
      "Synset('extraterrestrial_being.n.01') []\n"
     ]
    }
   ],
   "source": [
    "alien = wordnet.synsets('alien', 'n')\n",
    "for ss in alien:\n",
    "    print(ss, ss.definition())\n",
    "    print(ss, ss.examples())"
   ]
  },
  {
   "cell_type": "markdown",
   "metadata": {},
   "source": [
    "Так как мы хотим взять максимально несвязанные слова, то логично взять значение alien \"anyone who does not belong in the environment in which they are found\" "
   ]
  },
  {
   "cell_type": "code",
   "execution_count": 55,
   "metadata": {},
   "outputs": [
    {
     "name": "stdout",
     "output_type": "stream",
     "text": [
      "liquid food especially of meat or fish or vegetable stock often containing pieces of solid food\n",
      "a person who comes from a foreign country; someone who does not owe allegiance to your country\n",
      "0.09090909090909091\n",
      "1.2396908869280152\n",
      "0.2857142857142857\n",
      "0.8017591149538994\n",
      "0.05727299508402372\n",
      "0.08411345562516616\n",
      "anyone who does not belong in the environment in which they are found\n",
      "0.08333333333333333\n",
      "1.1526795099383855\n",
      "0.26666666666666666\n",
      "0.8017591149538994\n",
      "0.05891403853702992\n",
      "0.08631552960174331\n",
      "a form of life assumed to exist outside the Earth or its atmosphere\n",
      "0.058823529411764705\n",
      "0.8043728156701697\n",
      "0.1111111111111111\n",
      "-0.0\n",
      "0.04881961232302059\n",
      "-0.0\n",
      "any composition having a consistency suggestive of soup\n",
      "a person who comes from a foreign country; someone who does not owe allegiance to your country\n",
      "0.1\n",
      "1.3350010667323402\n",
      "0.3076923076923077\n",
      "0.8017591149538994\n",
      "0.049729541194259624\n",
      "0.07385302154474695\n",
      "anyone who does not belong in the environment in which they are found\n",
      "0.09090909090909091\n",
      "1.2396908869280152\n",
      "0.2857142857142857\n",
      "0.8017591149538994\n",
      "0.05096211602737226\n",
      "0.07554522579483298\n",
      "a form of life assumed to exist outside the Earth or its atmosphere\n",
      "0.06666666666666667\n",
      "0.9295359586241757\n",
      "0.2222222222222222\n",
      "0.5962292078977726\n",
      "0.04557958111031777\n",
      "0.051549926124164376\n",
      "an unfortunate situation\n",
      "a person who comes from a foreign country; someone who does not owe allegiance to your country\n",
      "0.08333333333333333\n",
      "1.1526795099383855\n",
      "0.15384615384615385\n",
      "-0.0\n",
      "0.046056864317029586\n",
      "-0.0\n",
      "anyone who does not belong in the environment in which they are found\n",
      "0.07692307692307693\n",
      "1.072636802264849\n",
      "0.14285714285714285\n",
      "-0.0\n",
      "0.047112171465101944\n",
      "-0.0\n",
      "a form of life assumed to exist outside the Earth or its atmosphere\n",
      "0.07142857142857142\n",
      "0.9985288301111273\n",
      "0.23529411764705882\n",
      "0.5962292078977726\n",
      "0.04557958111031777\n",
      "0.051549926124164376\n"
     ]
    }
   ],
   "source": [
    "'''\n",
    "на всякий случай выведу все соответствия, хотя можно было бы и не смотреть по всем, потому что\n",
    "остальные значения довольно странные\n",
    "'''\n",
    "for ss1 in soup:\n",
    "    print(ss1.definition())\n",
    "    for ss2 in alien:\n",
    "        print(ss2.definition())\n",
    "        print(ss1.path_similarity(ss2))\n",
    "\n",
    "        #Leacock-Chodorow Similarity\n",
    "        print(ss1.lch_similarity(ss2))\n",
    "\n",
    "        #Wu-Palmer Similarity\n",
    "        print(ss1.wup_similarity(ss2))\n",
    "\n",
    "        #Resnik Similarity\n",
    "        print(ss1.res_similarity(ss2, ic))\n",
    "\n",
    "        #Jiang-Conrath Similarity\n",
    "        print(ss1.jcn_similarity(ss2, ic))\n",
    "\n",
    "        #Lin Similarity\n",
    "        print(ss1.lin_similarity(ss2, ic))"
   ]
  },
  {
   "cell_type": "markdown",
   "metadata": {},
   "source": [
    "<style type=\"text/css\">\n",
    "\ttable.tableizer-table {\n",
    "\t\tfont-size: 12px;\n",
    "\t\tborder: 1px solid #CCC; \n",
    "\t\tfont-family: Arial, Helvetica, sans-serif;\n",
    "\t} \n",
    "\t.tableizer-table td {\n",
    "\t\tpadding: 4px;\n",
    "\t\tmargin: 3px;\n",
    "\t\tborder: 1px solid #CCC;\n",
    "\t}\n",
    "\t.tableizer-table th {\n",
    "\t\tbackground-color: #104E8B; \n",
    "\t\tcolor: #FFF;\n",
    "\t\tfont-weight: bold;\n",
    "\t}\n",
    "    \n",
    "</style>\n",
    "<table class=\"tableizer-table\">\n",
    "<thead><tr class=\"tableizer-firstrow\"><th>Similarity Index</th><th>банк/банковский счет</th><th>bank\"берег\"/ shore</th><th>liquid food / alien(\"инопланетянин\")</th></tr></thead><tbody>\n",
    " <tr><td>Path Similarity</td><td>0.08333333333333333</td><td>0.25</td><td>0.058823529411764705</td></tr>\n",
    " <tr><td>Leacock-Chodorow Similarity</td><td>1.1526795099383855</td><td>2.2512917986064953</td><td>0.8043728156701697</td></tr>\n",
    " <tr><td>Wu-Palmer Similarity</td><td>0.26666666666666666</td><td>0.7272727272727273</td><td>0.1111111111111111</td></tr>\n",
    " <tr><td>Resnik Similarity</td><td>0.5962292078977726</td><td>5.884681030765606</td><td>-0.0</td></tr>\n",
    " <tr><td>Jiang-Conrath Similarity</td><td>1e-300</td><td>0.137293462201792</td><td>0.04881961232302059</td></tr>\n",
    " <tr><td>Lin Similarity</td><td>1.1924584157955451e-300</td><td>0.6177160279043438</td><td>-0.0</td></tr>\n",
    "</tbody></table>"
   ]
  },
  {
   "cell_type": "markdown",
   "metadata": {},
   "source": [
    "Расстояния получились очень разные.\n",
    "Bank account, хоть и не является гипонимом банка, но в каком-то смысле является частью его услуг. Shore - должен употребляться похожим образом как и river bank, хотя и не польностью ему синонимичен.\n",
    "Поэтому логично, что берег и shore получили самые высокие результаты по первым четырем параметрам.\n",
    "При этом bank & shore получили более высокие показатели, чем банк & банковский счет, что тоже логично (контексты последней пары сильнее различаются контекстов первой).\n",
    "\n",
    "Очень странное число возвращает Jiang-Conrath Similarity на Паре банк/банковский счет. Судя по тому, что я сравнивала, эти результаты сложнее всего как-то интерпретировать. Lin Similarity тоже дает не очень понятные результаты.\n",
    "\n",
    "Как мне кажется, Leacock-Chodorow Similarity в лучшей степени отражает интуитивное представление о семантчиеской близости слов.\n",
    "\n",
    "\n",
    "\n"
   ]
  }
 ],
 "metadata": {
  "kernelspec": {
   "display_name": "Python 3",
   "language": "python",
   "name": "python3"
  },
  "language_info": {
   "codemirror_mode": {
    "name": "ipython",
    "version": 3
   },
   "file_extension": ".py",
   "mimetype": "text/x-python",
   "name": "python",
   "nbconvert_exporter": "python",
   "pygments_lexer": "ipython3",
   "version": "3.5.4"
  }
 },
 "nbformat": 4,
 "nbformat_minor": 1
}
