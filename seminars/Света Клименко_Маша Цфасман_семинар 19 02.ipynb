{
 "cells": [
  {
   "cell_type": "markdown",
   "metadata": {},
   "source": [
    "# Отчет\n",
    "\n",
    "Света Клименко\n",
    "\n",
    "Маша Цфасман"
   ]
  },
  {
   "cell_type": "markdown",
   "metadata": {},
   "source": [
    "### У нас получилось, что Наивный Байес даёт лучший результат.\n",
    "- 0.923030789281\n",
    "- P 0.872270756135\n",
    "- R 0.980701504918"
   ]
  },
  {
   "cell_type": "markdown",
   "metadata": {},
   "source": [
    "Наши предложения:\n",
    "test_set = ['открыть замок дверь', 'сильно сжать кулак врезаться кожа', 'пить чистый вода', 'лес весна холодный земля', 'набрать полный бутылка', 'положить карман', 'забыть дома не мочь зайти']\n",
    "\n",
    "### MultinomialNB\n",
    "\n",
    "Результаты, выданные MultinomialNB:\n",
    "[1 0 0 0 0 1 1]\n",
    "\n",
    "Правильные результаты:\n",
    "[1 1 0 0 0 1 1]\n",
    "\n",
    "#### Получается, одно из 7 предложений было определено неверно\n",
    "\n",
    "Предложение было  - Так сильно сжал ключ кулак, что он врезался в кожу\n",
    "\n",
    "##### Почему: контекст не содержит ключевых слов и даже стопслов. И вообще довольно нетипичный."
   ]
  }
 ],
 "metadata": {
  "kernelspec": {
   "display_name": "Python 3",
   "language": "python",
   "name": "python3"
  },
  "language_info": {
   "codemirror_mode": {
    "name": "ipython",
    "version": 3
   },
   "file_extension": ".py",
   "mimetype": "text/x-python",
   "name": "python",
   "nbconvert_exporter": "python",
   "pygments_lexer": "ipython3",
   "version": "3.5.4"
  }
 },
 "nbformat": 4,
 "nbformat_minor": 2
}
