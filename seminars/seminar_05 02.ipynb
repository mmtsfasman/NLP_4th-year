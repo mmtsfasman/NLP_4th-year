{
 "cells": [
  {
   "cell_type": "markdown",
   "metadata": {},
   "source": []
  },
  {
   "cell_type": "code",
   "execution_count": null,
   "metadata": {},
   "outputs": [],
   "source": [
    "import sklearn\n",
    "import re\n",
    "import gensim\n",
    "from gensim import corpora"
   ]
  },
  {
   "cell_type": "code",
   "execution_count": null,
   "metadata": {},
   "outputs": [],
   "source": [
    "# documents: list of str\n",
    "\n",
    "tok_collection = []\n",
    "for d in documents:\n",
    "    tok_collection.append([w for w in re.split('[\\W]+', d) if len(w) > 3])\n",
    "\n",
    "def text_to_words(filename, stop_words):\n",
    "    with open(filename) as f:\n",
    "        text = f.read()\n",
    "        all_words = m.lemmatize(text)\n",
    "\n",
    "    all_words_clean = []\n",
    "    for w in all_words:\n",
    "        if w in stop_words or re.search('[А-Яа-я]', w) == None:\n",
    "            pass\n",
    "        else:\n",
    "            all_words_clean.append(w)\n",
    "    \n",
    "    return all_words_clean\n",
    "    \n",
    "    \n",
    "    \n",
    "dictionary = corpora.Dictionary(tok_collection)\n",
    "\n",
    "corpus = [dictionary.doc2bow(text) for text in tok_collection]\n",
    "\n",
    "ldamodel = gensim.models.ldamodel.LdaModel(corpus,\n",
    "                                           num_topics=n_topics,\n",
    "                                           id2word=dictionary)\n",
    "\n",
    "pprint(ldamodel.print_topics())\n",
    "\n",
    "'''вычеркнуть заголовки, поделить на тексты(2 переноса строк) '''"
   ]
  },
  {
   "cell_type": "code",
   "execution_count": null,
   "metadata": {},
   "outputs": [],
   "source": [
    "with open('text_data/text_data/3_ru.txt') as f:\n",
    "    corpus = f.read()\n",
    "    for line in corpus: \n",
    "        "
   ]
  }
 ],
 "metadata": {
  "kernelspec": {
   "display_name": "Python 3",
   "language": "python",
   "name": "python3"
  },
  "language_info": {
   "codemirror_mode": {
    "name": "ipython",
    "version": 3
   },
   "file_extension": ".py",
   "mimetype": "text/x-python",
   "name": "python",
   "nbconvert_exporter": "python",
   "pygments_lexer": "ipython3",
   "version": "3.5.4"
  }
 },
 "nbformat": 4,
 "nbformat_minor": 2
}
