{
 "cells": [
  {
   "cell_type": "markdown",
   "metadata": {},
   "source": [
    "### COLLOCATIONS\n",
    "\n",
    "#### Отчет\n",
    "\n",
    "Задача: На основании этих данных выделить наиболее типичные для суда действия (словосочетания типа принять решение), применив два различных метода.\n",
    "\n",
    "Для оценки результата:\n",
    "\n",
    "1) Пользуясь словарями, интуицией и т.п. составляете золотой стандарт – ранжированный топ 10 коллокаций:\n",
    "\n",
    "> golden_stand = [(('ПРИНЯТЬ','РЕШЕНИЕ'),1), (('ПРИЗНАТЬ','ВИНОВНАЯ'),2), (('ВЫНЕСТИ','ПРИГОВОР'),3), \n",
    "                (('НАЗНАЧИТЬ','НАКАЗАНИЕ'),4), (('УДОВЛЕТВОРИТЬ','ХОДАТАЙСТВО'),5), \n",
    "                (('УДОВЛЕТВОРИТЬ','ИСК'),6), (('ОТКЛОНИТЬ','ХОДАТАЙСТВО'),7), (('ОТКЛОНИТЬ','ИСК'),8), \n",
    "                (('ОБЖАЛОВАТЬ','ПРИГОВОР'),9), (('ПРЕКРАТИТЬ','ДЕЛО'),10)]\n",
    "\n",
    "\n",
    "Методы:\n",
    "* PMI\n",
    "* LR"
   ]
  },
  {
   "cell_type": "code",
   "execution_count": 2,
   "metadata": {},
   "outputs": [],
   "source": [
    "import pandas as pd\n",
    "import nltk\n",
    "from nltk.collocations import *\n",
    "from scipy.stats import spearmanr"
   ]
  },
  {
   "cell_type": "code",
   "execution_count": 4,
   "metadata": {},
   "outputs": [],
   "source": [
    "df = pd.read_csv('court-V-N.csv') # corpus\n",
    "rows = list(map(list, df.values)) # list of rows in corpus\n",
    "bigram_measures = nltk.collocations.BigramAssocMeasures()\n",
    "finder = BigramCollocationFinder.from_documents(rows)"
   ]
  },
  {
   "cell_type": "code",
   "execution_count": 22,
   "metadata": {},
   "outputs": [],
   "source": [
    "golden_stand = [('ПРИНЯТЬ','РЕШЕНИЕ'), ('ПРИЗНАТЬ','ВИНОВНАЯ'), ('ВЫНЕСТИ','ПРИГОВОР'), \n",
    "                ('НАЗНАЧИТЬ','НАКАЗАНИЕ'), ('УДОВЛЕТВОРИТЬ','ХОДАТАЙСТВО'), \n",
    "                ('УДОВЛЕТВОРИТЬ','ИСК'), ('ОТКЛОНИТЬ','ХОДАТАЙСТВО'), ('ОТКЛОНИТЬ','ИСК'), \n",
    "                ('ОБЖАЛОВАТЬ','ПРИГОВОР'), ('ПРЕКРАТИТЬ','ДЕЛО')]"
   ]
  },
  {
   "cell_type": "code",
   "execution_count": 5,
   "metadata": {},
   "outputs": [
    {
     "data": {
      "text/html": [
       "<div>\n",
       "<style scoped>\n",
       "    .dataframe tbody tr th:only-of-type {\n",
       "        vertical-align: middle;\n",
       "    }\n",
       "\n",
       "    .dataframe tbody tr th {\n",
       "        vertical-align: top;\n",
       "    }\n",
       "\n",
       "    .dataframe thead th {\n",
       "        text-align: right;\n",
       "    }\n",
       "</style>\n",
       "<table border=\"1\" class=\"dataframe\">\n",
       "  <thead>\n",
       "    <tr style=\"text-align: right;\">\n",
       "      <th></th>\n",
       "      <th>СУД</th>\n",
       "      <th>АРЕСТОВАТЬ</th>\n",
       "      <th>ПОДПОЛКОВНИК</th>\n",
       "      <th>ЗАМНАЧАЛЬНИК</th>\n",
       "      <th>ОТДЕЛ</th>\n",
       "    </tr>\n",
       "  </thead>\n",
       "  <tbody>\n",
       "    <tr>\n",
       "      <th>0</th>\n",
       "      <td>СУД</td>\n",
       "      <td>ВЕСТИ</td>\n",
       "      <td>ПЕРЕГОВОРЫ</td>\n",
       "      <td>ПОСТАВКА</td>\n",
       "      <td>БУДУЩИЙ</td>\n",
       "    </tr>\n",
       "    <tr>\n",
       "      <th>1</th>\n",
       "      <td>СУД</td>\n",
       "      <td>ВЗЯТЬ</td>\n",
       "      <td>РЕАЛИЗАЦИЯ</td>\n",
       "      <td>ЗАКОН</td>\n",
       "      <td>ОБЯЗАТЕЛЬНЫЙ</td>\n",
       "    </tr>\n",
       "    <tr>\n",
       "      <th>2</th>\n",
       "      <td>СУД</td>\n",
       "      <td>ВЫКУПИТЬ</td>\n",
       "      <td>ГОСУДАРСТВО</td>\n",
       "      <td>АКЦИЯ</td>\n",
       "      <td>РАНЕЕ</td>\n",
       "    </tr>\n",
       "    <tr>\n",
       "      <th>3</th>\n",
       "      <td>СУД</td>\n",
       "      <td>ГОВОРИТЬ</td>\n",
       "      <td>ПРЕСС-СЕКРЕТАРЬ</td>\n",
       "      <td>ЕВГЕНИЙ</td>\n",
       "      <td>ВРЕМЕНИТЬ</td>\n",
       "    </tr>\n",
       "    <tr>\n",
       "      <th>4</th>\n",
       "      <td>СУД</td>\n",
       "      <td>ЕСТЬ</td>\n",
       "      <td>ЗВАНИЕ</td>\n",
       "      <td>ЗАСЛУЖЕННЫЙ</td>\n",
       "      <td>МАШИНОСТРОИТЕЛЬ</td>\n",
       "    </tr>\n",
       "  </tbody>\n",
       "</table>\n",
       "</div>"
      ],
      "text/plain": [
       "   СУД   АРЕСТОВАТЬ      ПОДПОЛКОВНИК  ЗАМНАЧАЛЬНИК             ОТДЕЛ \n",
       "0  СУД        ВЕСТИ        ПЕРЕГОВОРЫ      ПОСТАВКА           БУДУЩИЙ \n",
       "1  СУД        ВЗЯТЬ        РЕАЛИЗАЦИЯ         ЗАКОН      ОБЯЗАТЕЛЬНЫЙ \n",
       "2  СУД     ВЫКУПИТЬ       ГОСУДАРСТВО         АКЦИЯ             РАНЕЕ \n",
       "3  СУД     ГОВОРИТЬ   ПРЕСС-СЕКРЕТАРЬ       ЕВГЕНИЙ          ВРЕМЕНИТЬ\n",
       "4  СУД         ЕСТЬ            ЗВАНИЕ   ЗАСЛУЖЕННЫЙ   МАШИНОСТРОИТЕЛЬ "
      ]
     },
     "execution_count": 5,
     "metadata": {},
     "output_type": "execute_result"
    }
   ],
   "source": [
    "df.head()"
   ]
  },
  {
   "cell_type": "code",
   "execution_count": null,
   "metadata": {},
   "outputs": [],
   "source": []
  },
  {
   "cell_type": "markdown",
   "metadata": {},
   "source": [
    "2) Смотрите, какую позицию занимают коллокации из золотого стандарта среди списка, отранжированного по мере коллокационной связи.\n",
    "\n",
    "**Посмотрим как сотносятся коллокации из нашего золотого стандарта; выданные Pointwise Mutual Information и  Log-Likelihood**\n"
   ]
  },
  {
   "cell_type": "code",
   "execution_count": 27,
   "metadata": {},
   "outputs": [],
   "source": [
    "bigrams_lr = finder.nbest(bigram_measures.likelihood_ratio, 10)\n",
    "bigrams_pmi = finder.nbest(bigram_measures.pmi, 10)"
   ]
  },
  {
   "cell_type": "code",
   "execution_count": 23,
   "metadata": {},
   "outputs": [
    {
     "data": {
      "text/html": [
       "<div>\n",
       "<style scoped>\n",
       "    .dataframe tbody tr th:only-of-type {\n",
       "        vertical-align: middle;\n",
       "    }\n",
       "\n",
       "    .dataframe tbody tr th {\n",
       "        vertical-align: top;\n",
       "    }\n",
       "\n",
       "    .dataframe thead th {\n",
       "        text-align: right;\n",
       "    }\n",
       "</style>\n",
       "<table border=\"1\" class=\"dataframe\">\n",
       "  <thead>\n",
       "    <tr style=\"text-align: right;\">\n",
       "      <th></th>\n",
       "      <th>Golden standard</th>\n",
       "      <th>LR</th>\n",
       "      <th>PMI</th>\n",
       "    </tr>\n",
       "  </thead>\n",
       "  <tbody>\n",
       "    <tr>\n",
       "      <th>0</th>\n",
       "      <td>(ПРИНЯТЬ, РЕШЕНИЕ)</td>\n",
       "      <td>(СУД , ПРИЗНАТЬ )</td>\n",
       "      <td>( АКЦИОНЕР , РОЗНИЧНЫЙ )</td>\n",
       "    </tr>\n",
       "    <tr>\n",
       "      <th>1</th>\n",
       "      <td>(ПРИЗНАТЬ, ВИНОВНАЯ)</td>\n",
       "      <td>(ВЫДАТЬ , САНКЦИЯ )</td>\n",
       "      <td>( АРМИЯ , ВОССТАНОВИТЬСЯ )</td>\n",
       "    </tr>\n",
       "    <tr>\n",
       "      <th>2</th>\n",
       "      <td>(ВЫНЕСТИ, ПРИГОВОР)</td>\n",
       "      <td>(СУД , УДОВЛЕТВОРИТЬ )</td>\n",
       "      <td>( БОЛЬШИНСТВО , СООТЕЧЕСТВЕННИК )</td>\n",
       "    </tr>\n",
       "    <tr>\n",
       "      <th>3</th>\n",
       "      <td>(НАЗНАЧИТЬ, НАКАЗАНИЕ)</td>\n",
       "      <td>(УДОВЛЕТВОРИТЬ , ИСК )</td>\n",
       "      <td>( БРИГАДИР , ВИКТОР )</td>\n",
       "    </tr>\n",
       "    <tr>\n",
       "      <th>4</th>\n",
       "      <td>(УДОВЛЕТВОРИТЬ, ХОДАТАЙСТВО)</td>\n",
       "      <td>(УДОВЛЕТВОРИТЬ , ХОДАТАЙСТВО )</td>\n",
       "      <td>( ВЕСТИ , ПЕРЕГОВОРЫ )</td>\n",
       "    </tr>\n",
       "    <tr>\n",
       "      <th>5</th>\n",
       "      <td>(УДОВЛЕТВОРИТЬ, ИСК)</td>\n",
       "      <td>(ПРИНЯТЬ , РЕШЕНИЕ )</td>\n",
       "      <td>( ВЗЯТЬ , РЕАЛИЗАЦИЯ )</td>\n",
       "    </tr>\n",
       "    <tr>\n",
       "      <th>6</th>\n",
       "      <td>(ОТКЛОНИТЬ, ХОДАТАЙСТВО)</td>\n",
       "      <td>(САНКЦИЯ , АРЕСТ )</td>\n",
       "      <td>( ВОЗГЛАВИТЬ , СПИСОК )</td>\n",
       "    </tr>\n",
       "    <tr>\n",
       "      <th>7</th>\n",
       "      <td>(ОТКЛОНИТЬ, ИСК)</td>\n",
       "      <td>(МЕРА , ПРЕСЕЧЕНИЕ )</td>\n",
       "      <td>( ВРЕМЯ , КНЯЗЕВ )</td>\n",
       "    </tr>\n",
       "    <tr>\n",
       "      <th>8</th>\n",
       "      <td>(ОБЖАЛОВАТЬ, ПРИГОВОР)</td>\n",
       "      <td>(НАЛОЖИТЬ , АРЕСТ )</td>\n",
       "      <td>( ВСПОМИНАТЬСЯ , ПОПЫТКА )</td>\n",
       "    </tr>\n",
       "    <tr>\n",
       "      <th>9</th>\n",
       "      <td>(ПРЕКРАТИТЬ, ДЕЛО)</td>\n",
       "      <td>(СУД , ВЫНЕСТИ )</td>\n",
       "      <td>( ДОЛЛАР , ПОТРАТИТЬ )</td>\n",
       "    </tr>\n",
       "  </tbody>\n",
       "</table>\n",
       "</div>"
      ],
      "text/plain": [
       "                Golden standard                              LR  \\\n",
       "0            (ПРИНЯТЬ, РЕШЕНИЕ)               (СУД , ПРИЗНАТЬ )   \n",
       "1          (ПРИЗНАТЬ, ВИНОВНАЯ)             (ВЫДАТЬ , САНКЦИЯ )   \n",
       "2           (ВЫНЕСТИ, ПРИГОВОР)          (СУД , УДОВЛЕТВОРИТЬ )   \n",
       "3        (НАЗНАЧИТЬ, НАКАЗАНИЕ)          (УДОВЛЕТВОРИТЬ , ИСК )   \n",
       "4  (УДОВЛЕТВОРИТЬ, ХОДАТАЙСТВО)  (УДОВЛЕТВОРИТЬ , ХОДАТАЙСТВО )   \n",
       "5          (УДОВЛЕТВОРИТЬ, ИСК)            (ПРИНЯТЬ , РЕШЕНИЕ )   \n",
       "6      (ОТКЛОНИТЬ, ХОДАТАЙСТВО)              (САНКЦИЯ , АРЕСТ )   \n",
       "7              (ОТКЛОНИТЬ, ИСК)            (МЕРА , ПРЕСЕЧЕНИЕ )   \n",
       "8        (ОБЖАЛОВАТЬ, ПРИГОВОР)             (НАЛОЖИТЬ , АРЕСТ )   \n",
       "9            (ПРЕКРАТИТЬ, ДЕЛО)                (СУД , ВЫНЕСТИ )   \n",
       "\n",
       "                                 PMI  \n",
       "0           ( АКЦИОНЕР , РОЗНИЧНЫЙ )  \n",
       "1         ( АРМИЯ , ВОССТАНОВИТЬСЯ )  \n",
       "2  ( БОЛЬШИНСТВО , СООТЕЧЕСТВЕННИК )  \n",
       "3              ( БРИГАДИР , ВИКТОР )  \n",
       "4             ( ВЕСТИ , ПЕРЕГОВОРЫ )  \n",
       "5             ( ВЗЯТЬ , РЕАЛИЗАЦИЯ )  \n",
       "6            ( ВОЗГЛАВИТЬ , СПИСОК )  \n",
       "7                 ( ВРЕМЯ , КНЯЗЕВ )  \n",
       "8         ( ВСПОМИНАТЬСЯ , ПОПЫТКА )  \n",
       "9             ( ДОЛЛАР , ПОТРАТИТЬ )  "
      ]
     },
     "execution_count": 23,
     "metadata": {},
     "output_type": "execute_result"
    }
   ],
   "source": [
    "pd.DataFrame(data={'Golden standard': golden_stand, 'PMI': finder.nbest(bigram_measures.pmi, 10), 'LR': finder.nbest(bigram_measures.likelihood_ratio, 10)})"
   ]
  },
  {
   "cell_type": "markdown",
   "metadata": {},
   "source": [
    "(а) какие коллокации, полученные методом LR, не входят в мой золотой стандарт:\n",
    "\n",
    "* (СУД , ПРИЗНАТЬ )\t\n",
    "* (САНКЦИЯ , АРЕСТ )\t\n",
    "* (МЕРА , ПРЕСЕЧЕНИЕ )\t\n",
    "* (НАЛОЖИТЬ , АРЕСТ )\n",
    "* (СУД , ВЫНЕСТИ )\t\n",
    "* (ВЫДАТЬ , САНКЦИЯ )\t\n",
    "\n",
    ">Никакие из коллокаций, полученных методом PMI, не входят в мой золотой стандарт!\n",
    "\n",
    ">**В целом кажется, что LR сильно лучше выделяет значимые коллокации, чем PMI**\n",
    "\n",
    "(б) какие попали ошибочно (предложите объяснение - откуда взялась такая ошибка, что можно сделать, чтобы ее устранить)\n",
    "\n",
    ">В целом кажется, что LR все определил адекватно.\n",
    "\n",
    ">Наоборот, все коллокации, выделенные PMI, попали туда ошибочно)) Особенно \"Бригадир Виктор\". Может быть, если поставить ограничение на нижнюю границу частоты встречаемости, будет лучше.\n",
    "\n",
    "(в) какие у Вас не попоали в ЗС, но вы думаете, что это полезные коллокации:\n",
    "\n",
    ">(ВЫДАТЬ , САНКЦИЯ ) хорошая коллокация, не попавшая в мой ЗС"
   ]
  },
  {
   "cell_type": "markdown",
   "metadata": {},
   "source": [
    "3) Считаете меру качества – ранговый коэффициент корреляции Спирмена между двумя списками.\n"
   ]
  },
  {
   "cell_type": "code",
   "execution_count": 29,
   "metadata": {},
   "outputs": [],
   "source": [
    "# lists with scores and with scores removed\n",
    "list_with_scores_lr = list(finder.score_ngrams(bigram_measures.likelihood_ratio))\n",
    "list_no_scores_lr = [(x[0][0].strip(' '), x[0][1].strip(' ')) for x in list_with_scores_lr]\n",
    "list_with_scores_pmi = list(finder.score_ngrams(bigram_measures.pmi))\n",
    "list_no_scores_pmi = [(x[0][0].strip(' '), x[0][1].strip(' ')) for x in list_with_scores_pmi]"
   ]
  },
  {
   "cell_type": "code",
   "execution_count": 30,
   "metadata": {},
   "outputs": [
    {
     "name": "stdout",
     "output_type": "stream",
     "text": [
      "gold [1, 2, 3, 4, 5, 6, 7, 8, 9, 10]\n",
      "lr [5, 12, 86, 1992, 4, 3, 1251, 80, 2123, 1648]\n",
      "pmi [1976, 1963, 1978, 1792, 1924, 1997, 2123, 2062, 1927, 2085]\n"
     ]
    }
   ],
   "source": [
    "golden_stand = [(('ПРИНЯТЬ','РЕШЕНИЕ'),1), (('ПРИЗНАТЬ','ВИНОВНАЯ'),2), (('ВЫНЕСТИ','ПРИГОВОР'),3), \n",
    "                (('НАЗНАЧИТЬ','НАКАЗАНИЕ'),4), (('УДОВЛЕТВОРИТЬ','ХОДАТАЙСТВО'),5), \n",
    "                (('УДОВЛЕТВОРИТЬ','ИСК'),6), (('ОТКЛОНИТЬ','ХОДАТАЙСТВО'),7), (('ОТКЛОНИТЬ','ИСК'),8), \n",
    "                (('ОБЖАЛОВАТЬ','ПРИГОВОР'),9), (('ПРЕКРАТИТЬ','ДЕЛО'),10)]\n",
    "\n",
    "ranks_golden = [p[1] for p in golden_stand]\n",
    "ranks_lr = [list_no_scores_lr.index(i[0]) for i in golden_stand]\n",
    "ranks_pmi = [list_no_scores_pmi.index(i[0]) for i in golden_stand]\n",
    "print('gold', ranks_golden)\n",
    "print('lr', ranks_lr)\n",
    "print('pmi', ranks_pmi)"
   ]
  },
  {
   "cell_type": "code",
   "execution_count": 32,
   "metadata": {},
   "outputs": [
    {
     "name": "stdout",
     "output_type": "stream",
     "text": [
      "Spearman(lr, prmi)\n",
      "SpearmanrResult(correlation=-0.042424242424242413, pvalue=0.90736381781281605) \n",
      "\n",
      "Spearman(lr, golden)\n",
      "SpearmanrResult(correlation=0.45454545454545447, pvalue=0.18690481034933201) \n",
      "\n",
      "Spearman(pmi, golden)\n",
      "SpearmanrResult(correlation=0.43030303030303024, pvalue=0.21449233253280775)\n"
     ]
    }
   ],
   "source": [
    "print('Spearman(lr, prmi)')\n",
    "print(spearmanr(ranks_lr, ranks_pmi), '\\n')\n",
    "print('Spearman(lr, golden)')\n",
    "print(spearmanr(ranks_lr,ranks_golden), '\\n')\n",
    "print('Spearman(pmi, golden)')\n",
    "print(spearmanr(ranks_pmi, ranks_golden))"
   ]
  },
  {
   "cell_type": "code",
   "execution_count": null,
   "metadata": {
    "collapsed": true
   },
   "outputs": [],
   "source": []
  }
 ],
 "metadata": {
  "kernelspec": {
   "display_name": "Python 3",
   "language": "python",
   "name": "python3"
  },
  "language_info": {
   "codemirror_mode": {
    "name": "ipython",
    "version": 3
   },
   "file_extension": ".py",
   "mimetype": "text/x-python",
   "name": "python",
   "nbconvert_exporter": "python",
   "pygments_lexer": "ipython3",
   "version": "3.5.4"
  }
 },
 "nbformat": 4,
 "nbformat_minor": 1
}
