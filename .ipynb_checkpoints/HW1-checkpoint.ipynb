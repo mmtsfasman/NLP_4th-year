{
 "cells": [
  {
   "cell_type": "markdown",
   "metadata": {},
   "source": [
    "## Задание 1\n",
    "\n",
    "“тематический” корпус -  Отзывы о ресторанах: малый корпус\n",
    "контрастный корпус (reference corpus) - новостной корпус https://nlp4year.wikispaces.com/file/view/news.txt/610208227/news.txt\n",
    "\n",
    "избирательная кампания\n",
    "\n",
    "- корпус 1, корпус 2 (или хотя бы примеры текстов из обоих корпусов) \n",
    "- код\n",
    "- отчет: \n",
    "\n",
    "\n",
    "либо обработать корпуса в Python или NLTK. \n",
    "\n",
    "\n",
    "частотность \n",
    "\n",
    "weirdness loglikelyhood "
   ]
  },
  {
   "cell_type": "markdown",
   "metadata": {},
   "source": [
    "### Отчет\n",
    "#### 1) характеристики исследуемого (тематического) корпуса: \n",
    "- (1) признаки “тематического” корпуса - жанр / тематику (любую другую характеристику, по которой Вы отбирали корпус); \n",
    "- (2) источник текстов; \n",
    "- (3) объем корпуса; \n",
    "- (4) параметры предобработки: сырой / лемматизированный / с морфологической аннотацией …;если важно для Вашей задачи, то укажите\n",
    "- (5) подвыборку, которая рассматривалась, если вы брали подвыборку (например, только существительные…, контексты длиной 5 слов...) \n",
    "- (6) любые комментарии, которые сочтете нужными\n",
    "\n",
    "\n",
    "#### 2) характеристики контрастного корпуса (жанр/тематику…, объем, источник, доп. параметры)\n",
    "\n",
    "\n",
    "#### 3) Для второго метода укажите формулу, источник - откуда Вы взяли формулу \n",
    "\n",
    "\n",
    "#### 4) Заполните таблицу 1:\n",
    " - для вар.1 - для 4-х слов (2 общеупотребительных, 2 тематических)\n",
    " - для вар. 2 - укажите в таблице данные для топ 10 тематичных по LogLikelihood и для 10 - находящихся внизу упорядоченного по убыванию значения LogLikelihood списка \n",
    " \n",
    "<center> <h4> Таблица 1 </h4> </center>\n",
    "        \n",
    "|  wi  | Тип | CountSpecC| CountRefC | LogLikelihood  |  Ранг | Вес 2 | Ранг|\n",
    "|---|:---:|:---|:---|:---|:---|:---:|---:|\n",
    "|   |   |   |   |   |   |   |   |   |\n",
    "|   |   |   |   |   |   |   |   |   |\n",
    "|   |   |   |   |   |   |   |   |   |\n",
    "   \n",
    "   \n",
    "#### 5) Напишите комментарии: насколько точен оказался результат применения весов\n",
    "(тематическое слово – получило высокую позицию в ранжированном списке, а общеупотребительное - низкую)\n",
    "Выберите сами вручную 10 слов, которые, по-вашему мнению, специфичны для Вашего корпуса\n",
    "Оцените точность и полноту: процент слов в списке топ10, совпавших с Вашим, процент слов из Вашего списка, не попавших в топ 10. \n"
   ]
  },
  {
   "cell_type": "code",
   "execution_count": 1,
   "metadata": {},
   "outputs": [],
   "source": [
    "import nltk\n"
   ]
  },
  {
   "cell_type": "code",
   "execution_count": 2,
   "metadata": {},
   "outputs": [
    {
     "ename": "FileNotFoundError",
     "evalue": "[Errno 2] No such file or directory: 'news.txt'",
     "output_type": "error",
     "traceback": [
      "\u001b[0;31m---------------------------------------------------------------------------\u001b[0m",
      "\u001b[0;31mFileNotFoundError\u001b[0m                         Traceback (most recent call last)",
      "\u001b[0;32m<ipython-input-2-ef6c02badc21>\u001b[0m in \u001b[0;36m<module>\u001b[0;34m()\u001b[0m\n\u001b[0;32m----> 1\u001b[0;31m \u001b[0;32mwith\u001b[0m \u001b[0mopen\u001b[0m\u001b[0;34m(\u001b[0m\u001b[0;34m'news.txt'\u001b[0m\u001b[0;34m)\u001b[0m \u001b[0;32mas\u001b[0m \u001b[0mRef\u001b[0m\u001b[0;34m:\u001b[0m\u001b[0;34m\u001b[0m\u001b[0m\n\u001b[0m\u001b[1;32m      2\u001b[0m     \u001b[0mnltk\u001b[0m\u001b[0;34m.\u001b[0m\u001b[0mtokenize\u001b[0m\u001b[0;34m.\u001b[0m\u001b[0mword_tokenize\u001b[0m\u001b[0;34m\u001b[0m\u001b[0m\n",
      "\u001b[0;31mFileNotFoundError\u001b[0m: [Errno 2] No such file or directory: 'news.txt'"
     ]
    }
   ],
   "source": [
    "with open('news.txt') as Ref:\n",
    "    nltk.tokenize.word_tokenize"
   ]
  },
  {
   "cell_type": "code",
   "execution_count": null,
   "metadata": {},
   "outputs": [],
   "source": []
  },
  {
   "cell_type": "code",
   "execution_count": null,
   "metadata": {},
   "outputs": [],
   "source": []
  }
 ],
 "metadata": {
  "kernelspec": {
   "display_name": "Python 3",
   "language": "python",
   "name": "python3"
  },
  "language_info": {
   "codemirror_mode": {
    "name": "ipython",
    "version": 3
   },
   "file_extension": ".py",
   "mimetype": "text/x-python",
   "name": "python",
   "nbconvert_exporter": "python",
   "pygments_lexer": "ipython3",
   "version": "3.5.4"
  }
 },
 "nbformat": 4,
 "nbformat_minor": 2
}
