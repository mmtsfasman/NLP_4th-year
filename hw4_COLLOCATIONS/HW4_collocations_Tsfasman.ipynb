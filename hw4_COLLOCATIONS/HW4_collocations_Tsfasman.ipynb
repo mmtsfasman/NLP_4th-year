{
 "cells": [
  {
   "cell_type": "markdown",
   "metadata": {},
   "source": [
    "### COLLOCATIONS\n",
    "\n",
    "#### Отчет\n",
    "\n",
    "Задача: На основании этих данных выделить наиболее типичные для суда действия (словосочетания типа принять решение), применив два различных метода.\n",
    "\n",
    "Для оценки результата:\n",
    "\n",
    "1) Пользуясь словарями, интуицией и т.п. составляете золотой стандарт – ранжированный топ 10 коллокаций.\n",
    "\n",
    "> golden_stand = [(('ПРИНЯТЬ','РЕШЕНИЕ'),1), (('ПРИЗНАТЬ','ВИНОВНАЯ'),2), (('ВЫНЕСТИ','ПРИГОВОР'),3), \n",
    "                (('НАЗНАЧИТЬ','НАКАЗАНИЕ'),4), (('УДОВЛЕТВОРИТЬ','ХОДАТАЙСТВО'),5), \n",
    "                (('УДОВЛЕТВОРИТЬ','ИСК'),6), (('ОТКЛОНИТЬ','ХОДАТАЙСТВО'),7), (('ОТКЛОНИТЬ','ИСК'),8), \n",
    "                (('ОБЖАЛОВАТЬ','ПРИГОВОР'),9), (('ПРЕКРАТИТЬ','ДЕЛО'),10)]\n",
    "\n",
    "2) Смотрите, какую позицию занимают коллокации из золотого стандарта среди списка, отранжированного по мере коллокационной связи.\n",
    "\n",
    "3) Считаете меру качества – ранговый коэффициент корреляции Спирмена между двумя списками.\n",
    "\n",
    "Методы:\n",
    "* PMI\n",
    "* LR\n",
    "\n",
    "Итогом работы является скрипт на питоне + список топ-коллокаций, полученных методом 1, список топ-коллокаций, полученных методом 2. Отчет по заданию: (0) какой датасет - корпус, количество токенов; для каждого метода/параметра метода указать, (а) какие коллокации, полученные методом i, не входят в Ваш золотой стандарт, (б) какие попали ошибочно (предложите объяснение - откуда взялась такая ошибка, что можно сделать, чтобы ее устранить), (в) какие у Вас не попоали в ЗС, но вы думаете, что это полезные коллокации.\n"
   ]
  },
  {
   "cell_type": "code",
   "execution_count": 8,
   "metadata": {},
   "outputs": [],
   "source": [
    "import pandas as pd\n",
    "import nltk\n",
    "from nltk.collocations import *\n",
    "from scipy.stats import spearmanr"
   ]
  },
  {
   "cell_type": "code",
   "execution_count": 9,
   "metadata": {},
   "outputs": [],
   "source": [
    "df = pd.read_csv('court-V-N.csv') # corpus\n",
    "rows = list(map(list, df.values)) # list of rows in corpus\n",
    "bigram_measures = nltk.collocations.BigramAssocMeasures()\n",
    "finder = BigramCollocationFinder.from_documents(rows)"
   ]
  },
  {
   "cell_type": "code",
   "execution_count": 10,
   "metadata": {},
   "outputs": [],
   "source": [
    "# top 10 -- LR\n",
    "top_lr = finder.nbest(bigram_measures.likelihood_ratio, 10)"
   ]
  },
  {
   "cell_type": "code",
   "execution_count": 11,
   "metadata": {
    "scrolled": true
   },
   "outputs": [],
   "source": [
    "# top 10 -- PMI\n",
    "top_pmi = finder.nbest(bigram_measures.pmi, 10)"
   ]
  },
  {
   "cell_type": "code",
   "execution_count": 12,
   "metadata": {},
   "outputs": [],
   "source": [
    "# lists with scores and with scores removed\n",
    "list_with_scores_lr = list(finder.score_ngrams(bigram_measures.likelihood_ratio))\n",
    "list_no_scores_lr = [(x[0][0].strip(' '), x[0][1].strip(' ')) for x in list_with_scores_lr]\n",
    "list_with_scores_pmi = list(finder.score_ngrams(bigram_measures.pmi))\n",
    "list_no_scores_pmi = [(x[0][0].strip(' '), x[0][1].strip(' ')) for x in list_with_scores_pmi]"
   ]
  },
  {
   "cell_type": "code",
   "execution_count": 20,
   "metadata": {},
   "outputs": [
    {
     "name": "stdout",
     "output_type": "stream",
     "text": [
      "gold [1, 2, 3, 4, 5, 6, 7, 8, 9, 10]\n",
      "lr [5, 12, 86, 1992, 4, 3, 1251, 80, 2123, 1648]\n",
      "pmi [1976, 1963, 1978, 1792, 1924, 1997, 2123, 2062, 1927, 2085]\n"
     ]
    }
   ],
   "source": [
    "golden_stand = [(('ПРИНЯТЬ','РЕШЕНИЕ'),1), (('ПРИЗНАТЬ','ВИНОВНАЯ'),2), (('ВЫНЕСТИ','ПРИГОВОР'),3), \n",
    "                (('НАЗНАЧИТЬ','НАКАЗАНИЕ'),4), (('УДОВЛЕТВОРИТЬ','ХОДАТАЙСТВО'),5), \n",
    "                (('УДОВЛЕТВОРИТЬ','ИСК'),6), (('ОТКЛОНИТЬ','ХОДАТАЙСТВО'),7), (('ОТКЛОНИТЬ','ИСК'),8), \n",
    "                (('ОБЖАЛОВАТЬ','ПРИГОВОР'),9), (('ПРЕКРАТИТЬ','ДЕЛО'),10)]\n",
    "\n",
    "ranks_golden = [p[1] for p in golden_stand]\n",
    "ranks_lr = [list_no_scores_lr.index(i[0]) for i in golden_stand]\n",
    "ranks_pmi = [list_no_scores_pmi.index(i[0]) for i in golden_stand]\n",
    "print('gold', ranks_golden)\n",
    "print('lr', ranks_lr)\n",
    "print('pmi', ranks_pmi)"
   ]
  },
  {
   "cell_type": "code",
   "execution_count": 24,
   "metadata": {},
   "outputs": [
    {
     "ename": "TypeError",
     "evalue": "cannot convert dictionary update sequence element #0 to a sequence",
     "output_type": "error",
     "traceback": [
      "\u001b[0;31m---------------------------------------------------------------------------\u001b[0m",
      "\u001b[0;31mTypeError\u001b[0m                                 Traceback (most recent call last)",
      "\u001b[0;32m<ipython-input-24-3deb7f950e90>\u001b[0m in \u001b[0;36m<module>\u001b[0;34m()\u001b[0m\n\u001b[1;32m      1\u001b[0m \u001b[0;32mfrom\u001b[0m \u001b[0mnltk\u001b[0m\u001b[0;34m.\u001b[0m\u001b[0mmetrics\u001b[0m\u001b[0;34m.\u001b[0m\u001b[0mspearman\u001b[0m \u001b[0;32mimport\u001b[0m \u001b[0;34m*\u001b[0m\u001b[0;34m\u001b[0m\u001b[0m\n\u001b[1;32m      2\u001b[0m \u001b[0;31m#print(golden_stand, ranks_lr)\u001b[0m\u001b[0;34m\u001b[0m\u001b[0;34m\u001b[0m\u001b[0m\n\u001b[0;32m----> 3\u001b[0;31m \u001b[0mprint\u001b[0m\u001b[0;34m(\u001b[0m\u001b[0mspearman_correlation\u001b[0m\u001b[0;34m(\u001b[0m\u001b[0mgolden_stand\u001b[0m\u001b[0;34m,\u001b[0m \u001b[0mranks_lr\u001b[0m\u001b[0;34m)\u001b[0m\u001b[0;34m)\u001b[0m\u001b[0;34m\u001b[0m\u001b[0m\n\u001b[0m",
      "\u001b[0;32m~/anaconda3/lib/python3.5/site-packages/nltk/metrics/spearman.py\u001b[0m in \u001b[0;36mspearman_correlation\u001b[0;34m(ranks1, ranks2)\u001b[0m\n\u001b[1;32m     33\u001b[0m     \u001b[0mn\u001b[0m \u001b[0;34m=\u001b[0m \u001b[0;36m0\u001b[0m\u001b[0;34m\u001b[0m\u001b[0m\n\u001b[1;32m     34\u001b[0m     \u001b[0mres\u001b[0m \u001b[0;34m=\u001b[0m \u001b[0;36m0\u001b[0m\u001b[0;34m\u001b[0m\u001b[0m\n\u001b[0;32m---> 35\u001b[0;31m     \u001b[0;32mfor\u001b[0m \u001b[0mk\u001b[0m\u001b[0;34m,\u001b[0m \u001b[0md\u001b[0m \u001b[0;32min\u001b[0m \u001b[0m_rank_dists\u001b[0m\u001b[0;34m(\u001b[0m\u001b[0mranks1\u001b[0m\u001b[0;34m,\u001b[0m \u001b[0mranks2\u001b[0m\u001b[0;34m)\u001b[0m\u001b[0;34m:\u001b[0m\u001b[0;34m\u001b[0m\u001b[0m\n\u001b[0m\u001b[1;32m     36\u001b[0m         \u001b[0mres\u001b[0m \u001b[0;34m+=\u001b[0m \u001b[0md\u001b[0m \u001b[0;34m*\u001b[0m \u001b[0md\u001b[0m\u001b[0;34m\u001b[0m\u001b[0m\n\u001b[1;32m     37\u001b[0m         \u001b[0mn\u001b[0m \u001b[0;34m+=\u001b[0m \u001b[0;36m1\u001b[0m\u001b[0;34m\u001b[0m\u001b[0m\n",
      "\u001b[0;32m~/anaconda3/lib/python3.5/site-packages/nltk/metrics/spearman.py\u001b[0m in \u001b[0;36m_rank_dists\u001b[0;34m(ranks1, ranks2)\u001b[0m\n\u001b[1;32m     17\u001b[0m     \"\"\"\n\u001b[1;32m     18\u001b[0m     \u001b[0mranks1\u001b[0m \u001b[0;34m=\u001b[0m \u001b[0mdict\u001b[0m\u001b[0;34m(\u001b[0m\u001b[0mranks1\u001b[0m\u001b[0;34m)\u001b[0m\u001b[0;34m\u001b[0m\u001b[0m\n\u001b[0;32m---> 19\u001b[0;31m     \u001b[0mranks2\u001b[0m \u001b[0;34m=\u001b[0m \u001b[0mdict\u001b[0m\u001b[0;34m(\u001b[0m\u001b[0mranks2\u001b[0m\u001b[0;34m)\u001b[0m\u001b[0;34m\u001b[0m\u001b[0m\n\u001b[0m\u001b[1;32m     20\u001b[0m     \u001b[0;32mfor\u001b[0m \u001b[0mk\u001b[0m \u001b[0;32min\u001b[0m \u001b[0mranks1\u001b[0m\u001b[0;34m:\u001b[0m\u001b[0;34m\u001b[0m\u001b[0m\n\u001b[1;32m     21\u001b[0m         \u001b[0;32mtry\u001b[0m\u001b[0;34m:\u001b[0m\u001b[0;34m\u001b[0m\u001b[0m\n",
      "\u001b[0;31mTypeError\u001b[0m: cannot convert dictionary update sequence element #0 to a sequence"
     ]
    }
   ],
   "source": [
    "from nltk.metrics.spearman import *\n",
    "print(golden_stand, ranks_lr)\n",
    "print(spearman_correlation(golden_stand, ranks_lr))"
   ]
  },
  {
   "cell_type": "code",
   "execution_count": 15,
   "metadata": {},
   "outputs": [
    {
     "data": {
      "text/plain": [
       "SpearmanrResult(correlation=0.45454545454545447, pvalue=0.18690481034933201)"
      ]
     },
     "execution_count": 15,
     "metadata": {},
     "output_type": "execute_result"
    }
   ],
   "source": [
    "spearmanr(ranks_golden,ranks_lr)"
   ]
  },
  {
   "cell_type": "code",
   "execution_count": 18,
   "metadata": {},
   "outputs": [
    {
     "data": {
      "text/plain": [
       "SpearmanrResult(correlation=0.43030303030303024, pvalue=0.21449233253280775)"
      ]
     },
     "execution_count": 18,
     "metadata": {},
     "output_type": "execute_result"
    }
   ],
   "source": [
    "spearmanr(ranks_golden,ranks_pmi)"
   ]
  },
  {
   "cell_type": "code",
   "execution_count": null,
   "metadata": {
    "collapsed": true
   },
   "outputs": [],
   "source": []
  }
 ],
 "metadata": {
  "kernelspec": {
   "display_name": "Python 3",
   "language": "python",
   "name": "python3"
  },
  "language_info": {
   "codemirror_mode": {
    "name": "ipython",
    "version": 3
   },
   "file_extension": ".py",
   "mimetype": "text/x-python",
   "name": "python",
   "nbconvert_exporter": "python",
   "pygments_lexer": "ipython3",
   "version": "3.5.4"
  }
 },
 "nbformat": 4,
 "nbformat_minor": 1
}
